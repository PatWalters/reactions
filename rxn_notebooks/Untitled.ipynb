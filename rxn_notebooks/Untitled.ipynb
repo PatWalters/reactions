{
 "cells": [
  {
   "cell_type": "code",
   "execution_count": 24,
   "id": "da9723d4-9941-40be-b272-e67c4c7f5b88",
   "metadata": {},
   "outputs": [],
   "source": [
    "import pandas as pd\n",
    "from rdkit.Chem import AllChem"
   ]
  },
  {
   "cell_type": "code",
   "execution_count": 15,
   "id": "a9587397-7748-4212-b814-7185cfc47784",
   "metadata": {},
   "outputs": [],
   "source": [
    "with open(\"reactions.txt\") as ifs:\n",
    "    buff = ifs.read()"
   ]
  },
  {
   "cell_type": "code",
   "execution_count": 38,
   "id": "417af35f-e2be-410d-bb38-b7bba57e5a55",
   "metadata": {},
   "outputs": [],
   "source": [
    "res = []\n",
    "toks = buff.split(\"|\")\n",
    "for i in range(0,len(toks),4):\n",
    "    res.append([x.strip() for x in toks[i+1:i+4]])"
   ]
  },
  {
   "cell_type": "code",
   "execution_count": 39,
   "id": "8d72d234-1bfd-4d2f-84d3-516ba07f148d",
   "metadata": {},
   "outputs": [],
   "source": [
    "rxn_df = pd.DataFrame(res[1:],columns=[x.strip().replace(\" \",\"_\") for x in res[0]]).dropna()"
   ]
  },
  {
   "cell_type": "code",
   "execution_count": 48,
   "id": "b601d3df-ad72-4e1b-b31a-26b699058727",
   "metadata": {},
   "outputs": [
    {
     "name": "stdout",
     "output_type": "stream",
     "text": [
      "rxn101\n",
      "[#6;a;$(c1:[c,n]:[c,n]:[c,n]:[c,n]:[c,n]:1):1][#35;A;D1].[#7;A;$(N[#6])!$(N=)!$([N-])!$(N#)!$([ND3])!$(N[ND4])!$(N[O,N])!$(N[C,S]=[S,O,N]):2]>>[#6:1]-[#7:2]\n"
     ]
    },
    {
     "name": "stderr",
     "output_type": "stream",
     "text": [
      "[12:29:18] SMARTS Parse Error: syntax error while parsing: [#7;A;$(N[#6])_100!$(N=)_101!$([N-])_102!$(N#)_103!$([ND3])_104!$(N[ND4])_105!$(N[O,N])_106!$(N[C,S]=[S,O,N])_107:2]\n",
      "[12:29:18] SMARTS Parse Error: Failed parsing SMARTS '[#7;A;$(N[#6])_100!$(N=)_101!$([N-])_102!$(N#)_103!$([ND3])_104!$(N[ND4])_105!$(N[O,N])_106!$(N[C,S]=[S,O,N])_107:2]' for input: '[#7;A;$(N[#6])!$(N=)!$([N-])!$(N#)!$([ND3])!$(N[ND4])!$(N[O,N])!$(N[C,S]=[S,O,N]):2]'\n"
     ]
    },
    {
     "ename": "ValueError",
     "evalue": "ChemicalReactionParserException: Problems constructing reactant from SMARTS: [#7;A;$(N[#6])!$(N=)!$([N-])!$(N#)!$([ND3])!$(N[ND4])!$(N[O,N])!$(N[C,S]=[S,O,N]):2]",
     "output_type": "error",
     "traceback": [
      "\u001b[0;31m---------------------------------------------------------------------------\u001b[0m",
      "\u001b[0;31mValueError\u001b[0m                                Traceback (most recent call last)",
      "Cell \u001b[0;32mIn[48], line 4\u001b[0m\n\u001b[1;32m      2\u001b[0m \u001b[38;5;28mprint\u001b[39m(num)\n\u001b[1;32m      3\u001b[0m \u001b[38;5;28mprint\u001b[39m(smarts)\n\u001b[0;32m----> 4\u001b[0m \u001b[43mAllChem\u001b[49m\u001b[38;5;241;43m.\u001b[39;49m\u001b[43mReactionFromSmarts\u001b[49m\u001b[43m(\u001b[49m\u001b[43msmarts\u001b[49m\u001b[43m)\u001b[49m\n",
      "\u001b[0;31mValueError\u001b[0m: ChemicalReactionParserException: Problems constructing reactant from SMARTS: [#7;A;$(N[#6])!$(N=)!$([N-])!$(N#)!$([ND3])!$(N[ND4])!$(N[O,N])!$(N[C,S]=[S,O,N]):2]"
     ]
    }
   ],
   "source": [
    "for num,smarts in rxn_df[[\"Reaction_number\",\"Reaction_SMARTS\"]].values:\n",
    "    print(num)\n",
    "    print(smarts)\n",
    "    AllChem.ReactionFromSmarts(smarts)"
   ]
  },
  {
   "cell_type": "code",
   "execution_count": 52,
   "id": "03c52420-cb50-444d-81cb-89b4dc6111fe",
   "metadata": {
    "scrolled": true
   },
   "outputs": [
    {
     "data": {
      "image/png": "[encoded data removed]",
      "text/plain": [
       "<rdkit.Chem.rdChemReactions.ChemicalReaction at 0x350bbe180>"
      ]
     },
     "execution_count": 52,
     "metadata": {},
     "output_type": "execute_result"
    }
   ],
   "source": [
    "smarts = \"[#6;a;$(c1:[c,n]:[c,n]:[c,n]:[c,n]:[c,n]:1):1][#35;A;D1].[#7;A;$(N[#6])!$(N=*)!$([N-])!$(N#*)!$([ND3])!$([ND4])!$(N[O,N])!$(N[C,S]=[S,O,N]):2]>>[#6:1]-[#7:2]\"\n",
    "AllChem.ReactionFromSmarts(smarts)"
   ]
  },
  {
   "cell_type": "code",
   "execution_count": 53,
   "id": "75a34511-a963-41cd-b19d-fef9ae9b7633",
   "metadata": {},
   "outputs": [
    {
     "data": {
      "text/plain": [
       "'[#6;a;$(c1:[c,n]:[c,n]:[c,n]:[c,n]:[c,n]:1):1][#35;A;D1].[#7;A;$(N[#6])!$(N=*)!$([N-])!$(N#*)!$([ND3])!$([ND4])!$(N[O,N])!$(N[C,S]=[S,O,N]):2]>>[#6:1]-[#7:2]'"
      ]
     },
     "execution_count": 53,
     "metadata": {},
     "output_type": "execute_result"
    }
   ],
   "source": [
    "smarts"
   ]
  },
  {
   "cell_type": "code",
   "execution_count": 51,
   "id": "7474843f-a2ab-4625-89bc-dd1c6a2dfa41",
   "metadata": {},
   "outputs": [
    {
     "data": {
      "text/plain": [
       "'[#6;a;$(c1:[c,n]:[c,n]:[c,n]:[c,n]:[c,n]:1):1][#35;A;D1].[#7;A;$(N[#6])!$(N=)!$([N-])!$(N#)!$([ND3])!$(N[ND4])!$(N[O,N])!$(N[C,S]=[S,O,N]):2]>>[#6:1]-[#7:2]'"
      ]
     },
     "execution_count": 51,
     "metadata": {},
     "output_type": "execute_result"
    }
   ],
   "source": [
    "rxn_df.Reaction_SMARTS.values[0]"
   ]
  },
  {
   "cell_type": "code",
   "execution_count": 54,
   "id": "a3f19ca0-d0fb-43d8-a773-1dc7a7cb4e0d",
   "metadata": {},
   "outputs": [
    {
     "data": {
      "image/png": "[encoded data removed]",
      "text/plain": [
       "<rdkit.Chem.rdChemReactions.ChemicalReaction at 0x34f8d0b30>"
      ]
     },
     "execution_count": 54,
     "metadata": {},
     "output_type": "execute_result"
    }
   ],
   "source": [
    "AllChem.ReactionFromSmarts(\"[N;D1$(N[#6]),D2$(N([#6])[#6]);$(N-[#6])!$(N[C,S]=[O,N,S]):1].[N;D2;$(N[#6]):4]=[C;D2:2]=[O,S;D1:3]>>[N:1][C:2](=[*:3])[N:4]\")"
   ]
  },
  {
   "cell_type": "code",
   "execution_count": 55,
   "id": "400fc1ac-11cb-4a3c-ac86-f82d9db53be0",
   "metadata": {},
   "outputs": [
    {
     "data": {
      "image/png": "[encoded data removed]",
      "text/plain": [
       "<rdkit.Chem.rdChemReactions.ChemicalReaction at 0x35034b450>"
      ]
     },
     "execution_count": 55,
     "metadata": {},
     "output_type": "execute_result"
    }
   ],
   "source": [
    "AllChem.ReactionFromSmarts(\"[N;D1$(N[#6]),D2$(N([#6])[#6]);$(N-[#6])!$(N[C,S]=[O,N,S]):1].[N;D1$(N[#6]),D2$(N([#6])[#6]);$(N-[#6])!$(N[C,S]=[O,N,S]):4]>>[N:1][C](=S)[N:4]\")"
   ]
  },
  {
   "cell_type": "code",
   "execution_count": null,
   "id": "9d3ccfb9-b6ce-4658-b4ec-0ee98c2417c4",
   "metadata": {},
   "outputs": [],
   "source": []
  }
 ],
 "metadata": {
  "kernelspec": {
   "display_name": "Python 3 (ipykernel)",
   "language": "python",
   "name": "python3"
  },
  "language_info": {
   "codemirror_mode": {
    "name": "ipython",
    "version": 3
   },
   "file_extension": ".py",
   "mimetype": "text/x-python",
   "name": "python",
   "nbconvert_exporter": "python",
   "pygments_lexer": "ipython3",
   "version": "3.11.11"
  }
 },
 "nbformat": 4,
 "nbformat_minor": 5
}
