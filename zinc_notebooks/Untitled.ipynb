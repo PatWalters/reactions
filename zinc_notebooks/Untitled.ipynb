{
 "cells": [
  {
   "cell_type": "code",
   "execution_count": 70,
   "id": "87a75c41-9e87-4ef3-a3b1-ab6f0da660d8",
   "metadata": {},
   "outputs": [],
   "source": [
    "import pandas as pd\n",
    "from rdkit import Chem\n",
    "from rdkit.Chem import AllChem\n",
    "from tqdm.auto import tqdm\n",
    "import useful_rdkit_utils as uru"
   ]
  },
  {
   "cell_type": "code",
   "execution_count": 5,
   "id": "3d9ffc97-5652-46df-8446-1bc7f7dbcf8d",
   "metadata": {},
   "outputs": [],
   "source": [
    "tqdm.pandas()"
   ]
  },
  {
   "cell_type": "code",
   "execution_count": 76,
   "id": "8406bd12-5e9b-4ad7-b52d-650f1bb7d7fb",
   "metadata": {},
   "outputs": [],
   "source": [
    "def get_reaction_component_smarts(smarts):\n",
    "    reactants, products = smarts.split(\">>\")\n",
    "    smarts_list = reactants.split(\".\")\n",
    "    return smarts_list\n",
    "\n",
    "def add_molecule_names(df):\n",
    "    [x.SetProp(\"_Name\",str(y)) for x,y in df[[\"mol\",\"Name\"]].values]"
   ]
  },
  {
   "cell_type": "code",
   "execution_count": 33,
   "id": "d6620a07-24d0-4392-83ab-6ca158b1537d",
   "metadata": {},
   "outputs": [],
   "source": [
    "df = pd.read_csv(\"ZINC_lt_250.csv\")"
   ]
  },
  {
   "cell_type": "code",
   "execution_count": 34,
   "id": "12c13698-0e82-4eb7-b509-2b5a7c8a1224",
   "metadata": {},
   "outputs": [
    {
     "data": {
      "application/vnd.jupyter.widget-view+json": {
       "model_id": "fb2213614b524d609aa9f0b4cfc52344",
       "version_major": 2,
       "version_minor": 0
      },
      "text/plain": [
       "  0%|          | 0/855655 [00:00<?, ?it/s]"
      ]
     },
     "metadata": {},
     "output_type": "display_data"
    },
    {
     "name": "stderr",
     "output_type": "stream",
     "text": [
      "[16:59:14] Explicit valence for atom # 1 Sn, 5, is greater than permitted\n",
      "Exception ignored in: <function tqdm.__del__ at 0x3488def20>\n",
      "Traceback (most recent call last):\n",
      "  File \"/Users/pwalters/miniforge3/envs/rdkit_2025_01/lib/python3.11/site-packages/tqdm/std.py\", line 1148, in __del__\n",
      "    self.close()\n",
      "  File \"/Users/pwalters/miniforge3/envs/rdkit_2025_01/lib/python3.11/site-packages/tqdm/notebook.py\", line 282, in close\n",
      "    self.disp(bar_style='success', check_delay=False)\n",
      "    ^^^^^^^^^\n",
      "AttributeError: 'tqdm' object has no attribute 'disp'\n",
      "[16:59:30] Explicit valence for atom # 2 Sn, 5, is greater than permitted\n",
      "[16:59:36] Explicit valence for atom # 3 Sn, 5, is greater than permitted\n"
     ]
    }
   ],
   "source": [
    "df['mol'] = df.SMILES.progress_apply(Chem.MolFromSmiles)"
   ]
  },
  {
   "cell_type": "code",
   "execution_count": 145,
   "id": "88aec506-2dbb-4b37-883a-a2a5beb13c73",
   "metadata": {},
   "outputs": [],
   "source": [
    "df.dropna(subset=\"mol\",inplace=True)"
   ]
  },
  {
   "cell_type": "code",
   "execution_count": 156,
   "id": "a9d854f9-5378-416a-a6ec-0ed093c8ba92",
   "metadata": {},
   "outputs": [],
   "source": [
    "rxn_df = pd.read_excel(\"/Users/pwalters/DATA/REACTIONS/reactions.xlsx\")"
   ]
  },
  {
   "cell_type": "code",
   "execution_count": 157,
   "id": "435d3f22-1fd9-4104-bca4-98b0dcb04a91",
   "metadata": {},
   "outputs": [
    {
     "data": {
      "text/plain": [
       "26"
      ]
     },
     "execution_count": 157,
     "metadata": {},
     "output_type": "execute_result"
    }
   ],
   "source": [
    "len(rxn_df)"
   ]
  },
  {
   "cell_type": "code",
   "execution_count": 158,
   "id": "bcc8548f-ae7d-4784-8890-84e8fb49941c",
   "metadata": {},
   "outputs": [
    {
     "data": {
      "application/vnd.jupyter.widget-view+json": {
       "model_id": "f82b0daa27b74b63a34a81e04f56d4c6",
       "version_major": 2,
       "version_minor": 0
      },
      "text/plain": [
       "  0%|          | 0/855652 [00:00<?, ?it/s]"
      ]
     },
     "metadata": {},
     "output_type": "display_data"
    },
    {
     "name": "stdout",
     "output_type": "stream",
     "text": [
      "23 0 248800\n"
     ]
    },
    {
     "data": {
      "application/vnd.jupyter.widget-view+json": {
       "model_id": "b670ded035704035a9c2b7146e87e3a5",
       "version_major": 2,
       "version_minor": 0
      },
      "text/plain": [
       "  0%|          | 0/855652 [00:00<?, ?it/s]"
      ]
     },
     "metadata": {},
     "output_type": "display_data"
    },
    {
     "name": "stdout",
     "output_type": "stream",
     "text": [
      "23 1 95874\n"
     ]
    },
    {
     "data": {
      "application/vnd.jupyter.widget-view+json": {
       "model_id": "ed67344df012484bbd317c3c34c400fd",
       "version_major": 2,
       "version_minor": 0
      },
      "text/plain": [
       "  0%|          | 0/855652 [00:00<?, ?it/s]"
      ]
     },
     "metadata": {},
     "output_type": "display_data"
    },
    {
     "name": "stdout",
     "output_type": "stream",
     "text": [
      "23 2 17390\n"
     ]
    },
    {
     "data": {
      "application/vnd.jupyter.widget-view+json": {
       "model_id": "4f4ef3328cda4eb38020bf6e2292d45a",
       "version_major": 2,
       "version_minor": 0
      },
      "text/plain": [
       "  0%|          | 0/855652 [00:00<?, ?it/s]"
      ]
     },
     "metadata": {},
     "output_type": "display_data"
    },
    {
     "name": "stdout",
     "output_type": "stream",
     "text": [
      "23 3 7349\n"
     ]
    },
    {
     "data": {
      "application/vnd.jupyter.widget-view+json": {
       "model_id": "3cb76f2637724e7d86e04e406a67222d",
       "version_major": 2,
       "version_minor": 0
      },
      "text/plain": [
       "  0%|          | 0/855652 [00:00<?, ?it/s]"
      ]
     },
     "metadata": {},
     "output_type": "display_data"
    },
    {
     "name": "stdout",
     "output_type": "stream",
     "text": [
      "24 0 248800\n"
     ]
    },
    {
     "data": {
      "application/vnd.jupyter.widget-view+json": {
       "model_id": "360d560970594ad0a58eee2e0536dc2f",
       "version_major": 2,
       "version_minor": 0
      },
      "text/plain": [
       "  0%|          | 0/855652 [00:00<?, ?it/s]"
      ]
     },
     "metadata": {},
     "output_type": "display_data"
    },
    {
     "name": "stdout",
     "output_type": "stream",
     "text": [
      "24 1 95874\n"
     ]
    },
    {
     "data": {
      "application/vnd.jupyter.widget-view+json": {
       "model_id": "4af6eec0885642aba71d289d3f2629d5",
       "version_major": 2,
       "version_minor": 0
      },
      "text/plain": [
       "  0%|          | 0/855652 [00:00<?, ?it/s]"
      ]
     },
     "metadata": {},
     "output_type": "display_data"
    },
    {
     "name": "stdout",
     "output_type": "stream",
     "text": [
      "24 2 4771\n"
     ]
    },
    {
     "data": {
      "application/vnd.jupyter.widget-view+json": {
       "model_id": "b616353f198c46ed8eff720a2f6c4917",
       "version_major": 2,
       "version_minor": 0
      },
      "text/plain": [
       "  0%|          | 0/855652 [00:00<?, ?it/s]"
      ]
     },
     "metadata": {},
     "output_type": "display_data"
    },
    {
     "name": "stdout",
     "output_type": "stream",
     "text": [
      "24 3 718\n"
     ]
    },
    {
     "data": {
      "application/vnd.jupyter.widget-view+json": {
       "model_id": "d1ca0bc9c20045388c8d4a2d8f6344c7",
       "version_major": 2,
       "version_minor": 0
      },
      "text/plain": [
       "  0%|          | 0/855652 [00:00<?, ?it/s]"
      ]
     },
     "metadata": {},
     "output_type": "display_data"
    },
    {
     "name": "stdout",
     "output_type": "stream",
     "text": [
      "25 0 248800\n"
     ]
    },
    {
     "data": {
      "application/vnd.jupyter.widget-view+json": {
       "model_id": "20b834b7a5184856836c11cc9b691dea",
       "version_major": 2,
       "version_minor": 0
      },
      "text/plain": [
       "  0%|          | 0/855652 [00:00<?, ?it/s]"
      ]
     },
     "metadata": {},
     "output_type": "display_data"
    },
    {
     "name": "stdout",
     "output_type": "stream",
     "text": [
      "25 1 95874\n"
     ]
    },
    {
     "data": {
      "application/vnd.jupyter.widget-view+json": {
       "model_id": "5653f047829a4308b4330f2a7f79ea23",
       "version_major": 2,
       "version_minor": 0
      },
      "text/plain": [
       "  0%|          | 0/855652 [00:00<?, ?it/s]"
      ]
     },
     "metadata": {},
     "output_type": "display_data"
    },
    {
     "name": "stdout",
     "output_type": "stream",
     "text": [
      "25 2 4771\n"
     ]
    },
    {
     "data": {
      "application/vnd.jupyter.widget-view+json": {
       "model_id": "85f91826871945359a35191d8a236220",
       "version_major": 2,
       "version_minor": 0
      },
      "text/plain": [
       "  0%|          | 0/855652 [00:00<?, ?it/s]"
      ]
     },
     "metadata": {},
     "output_type": "display_data"
    },
    {
     "name": "stdout",
     "output_type": "stream",
     "text": [
      "25 3 17797\n"
     ]
    }
   ],
   "source": [
    "df_list = []\n",
    "for i in range(23,26):\n",
    "    rs = rxn_df.SMARTS.values[i]\n",
    "    for j,comp in enumerate(get_reaction_component_smarts(rs)):\n",
    "        pat = Chem.MolFromSmarts(comp)\n",
    "        df['match'] = [x.HasSubstructMatch(pat) for x in tqdm(df.mol.values)]\n",
    "        match_df = df.query(\"match\")\n",
    "        print(i,j,len(match_df))\n",
    "        num_to_sample = min(len(match_df),1000)\n",
    "        df_list.append(match_df.sample(num_to_sample).copy())"
   ]
  },
  {
   "cell_type": "code",
   "execution_count": 149,
   "id": "25f525a3-d66c-43aa-9ceb-901b9a6868a3",
   "metadata": {},
   "outputs": [
    {
     "name": "stdout",
     "output_type": "stream",
     "text": [
      "True\n",
      "True\n",
      "True\n",
      "True\n",
      "True\n",
      "True\n",
      "True\n",
      "True\n",
      "True\n",
      "True\n",
      "True\n",
      "True\n",
      "True\n",
      "True\n",
      "True\n",
      "True\n",
      "True\n",
      "True\n",
      "True\n",
      "True\n",
      "True\n",
      "True\n",
      "True\n",
      "True\n"
     ]
    }
   ],
   "source": [
    "ok = True\n",
    "for smarts in rxn_df.SMARTS:\n",
    "    smarts_list = get_reaction_component_smarts(smarts)\n",
    "    for s in smarts_list:\n",
    "        pat = Chem.MolFromSmarts(s)\n",
    "        if pat is None:\n",
    "            ok = False\n",
    "            break\n",
    "    print(ok)"
   ]
  },
  {
   "cell_type": "code",
   "execution_count": 140,
   "id": "dc4d6391-3280-429d-86c6-9f403582d1f0",
   "metadata": {},
   "outputs": [
    {
     "data": {
      "image/png": "[encoded data removed]",
      "text/plain": [
       "<rdkit.Chem.rdchem.Mol at 0x4809ecf20>"
      ]
     },
     "execution_count": 140,
     "metadata": {},
     "output_type": "execute_result"
    }
   ],
   "source": [
    "Chem.MolFromSmarts('[C;D2,$(C[#6]):2](=[OD1:3])[OD1,Cl]')"
   ]
  },
  {
   "cell_type": "code",
   "execution_count": 144,
   "id": "44252126-f0bf-406c-9716-1e9e12f52f67",
   "metadata": {},
   "outputs": [
    {
     "data": {
      "image/png": "[encoded data removed]",
      "text/plain": [
       "<rdkit.Chem.rdChemReactions.ChemicalReaction at 0x4809ed460>"
      ]
     },
     "execution_count": 144,
     "metadata": {},
     "output_type": "execute_result"
    }
   ],
   "source": [
    "ugi_smarts = \"[N;D1$(N-[#6]),D2$(N(-[#6])-[#6]);$(N-[#6])!$(N-C=[O,N,S]):1].[C;D2,$(C[#6]):2](=[OD1:3])[OD1,Cl].[#6;aD3$([#6]([#6])[#6]),AD2$([#6][#6]):4][#35;A;D1].[#6;A;D1;$(C#C[#6,#14]):5]>>([N:1][C:2](=[O:3]).[#6:5]-[#6:4])\"\n",
    "AllChem.ReactionFromSmarts(ugi_smarts)"
   ]
  },
  {
   "cell_type": "code",
   "execution_count": 130,
   "id": "0f11f694-0d4f-4de8-abcc-b32ad25576a5",
   "metadata": {},
   "outputs": [
    {
     "name": "stdout",
     "output_type": "stream",
     "text": [
      "[N;D1$(N-[#6]),D2$(N(-[#6])-[#6]);$(N-[#6])!$(N-C=[O,N,S]):1]\n",
      "([C;D2,$(C[#6]):2](=[OD1:3])[OD1,Cl]\n",
      "[#6;aD3$([#6]([#6])[#6]),AD2$([#6][#6]):4][#35;A;D1])\n",
      "[#6;A;D1;$(C#C[#6,#14]):5]\n"
     ]
    },
    {
     "name": "stderr",
     "output_type": "stream",
     "text": [
      "[19:41:38] SMARTS Parse Error: syntax error while parsing: ([C;D2,$(C[#6])_100:2](=[OD1:3])[OD1,Cl]\n",
      "[19:41:38] SMARTS Parse Error: Failed parsing SMARTS '([C;D2,$(C[#6])_100:2](=[OD1:3])[OD1,Cl]' for input: '([C;D2,$(C[#6]):2](=[OD1:3])[OD1,Cl]'\n",
      "[19:41:38] SMARTS Parse Error: syntax error while parsing: [#6;aD3$([#6]([#6])[#6]),AD2$([#6][#6]):4][#35;A;D1])\n",
      "[19:41:38] SMARTS Parse Error: Failed parsing SMARTS '[#6;aD3$([#6]([#6])[#6]),AD2$([#6][#6]):4][#35;A;D1])' for input: '[#6;aD3$([#6]([#6])[#6]),AD2$([#6][#6]):4][#35;A;D1])'\n"
     ]
    }
   ],
   "source": [
    "for sma in get_reaction_component_smarts(ugi_smarts):\n",
    "    print(sma)\n",
    "    Chem.MolFromSmarts(sma)"
   ]
  },
  {
   "cell_type": "code",
   "execution_count": 131,
   "id": "a0313d3a-e652-4b20-9e37-14000d94832d",
   "metadata": {},
   "outputs": [
    {
     "name": "stderr",
     "output_type": "stream",
     "text": [
      "[19:43:32] SMARTS Parse Error: syntax error while parsing: ([C;D2,$(C[#6])_100:2](=[OD1:3])[OD1,Cl])\n",
      "[19:43:32] SMARTS Parse Error: Failed parsing SMARTS '([C;D2,$(C[#6])_100:2](=[OD1:3])[OD1,Cl])' for input: '([C;D2,$(C[#6]):2](=[OD1:3])[OD1,Cl])'\n"
     ]
    }
   ],
   "source": [
    "Chem.MolFromSmarts(\"([C;D2,$(C[#6]):2](=[OD1:3])[OD1,Cl])\")"
   ]
  },
  {
   "cell_type": "code",
   "execution_count": 88,
   "id": "2a664922-821c-4a2f-80c3-f9ac2156cf4a",
   "metadata": {},
   "outputs": [],
   "source": [
    "rxn = AllChem.ReactionFromSmarts(rxn_df.SMARTS.values[0])\n",
    "[add_molecule_names(x) for x in df_list]\n",
    "prod_list = uru.enumerate_library(rxn,[df_list[0].mol,df_list[1].mol])"
   ]
  },
  {
   "cell_type": "code",
   "execution_count": 89,
   "id": "63a40059-b11c-4bdc-b6d0-a3d5c0cdaefd",
   "metadata": {},
   "outputs": [
    {
     "data": {
      "text/plain": [
       "1000000"
      ]
     },
     "execution_count": 89,
     "metadata": {},
     "output_type": "execute_result"
    }
   ],
   "source": [
    "len(prod_list)"
   ]
  },
  {
   "cell_type": "code",
   "execution_count": 90,
   "id": "11244faa-256a-49d6-b26a-a92d6c061a2c",
   "metadata": {},
   "outputs": [],
   "source": [
    "prod_df = pd.DataFrame(prod_list,columns=[\"SMILES\",\"Name\"])"
   ]
  },
  {
   "cell_type": "code",
   "execution_count": 95,
   "id": "50d9edf0-9fab-4711-92e9-eb52ca4b3ec0",
   "metadata": {},
   "outputs": [
    {
     "data": {
      "image/png": "[encoded data removed]",
      "text/plain": [
       "<IPython.core.display.Image object>"
      ]
     },
     "execution_count": 95,
     "metadata": {},
     "output_type": "execute_result"
    }
   ],
   "source": [
    "Chem.Draw.MolsToGridImage([Chem.MolFromSmiles(x) for x in prod_df.SMILES.values[:10]],molsPerRow=5)"
   ]
  },
  {
   "cell_type": "code",
   "execution_count": 154,
   "id": "24d7cd26-fee6-4973-a238-aef28ee0b5ca",
   "metadata": {},
   "outputs": [
    {
     "data": {
      "text/plain": [
       "['[N;D1$(N-[#6]),D2$(N(-[#6])-[#6]);$(N-[#6])!$(N-C=[O,N,S]):1]',\n",
       " '([C;D2,$(C[#6]):2](=[OD1:3])[OD1,Cl]',\n",
       " '[N;D2;$(N(-[#6])-[#6]):4]C(=[OD1])[OD2]C([CD1])([CD1])[CD1])',\n",
       " '[#6;a;$(c1:[c,n]:[c,n]:[c,n]:[c,n]:[c,n]:1):5][#53;A;D1]']"
      ]
     },
     "execution_count": 154,
     "metadata": {},
     "output_type": "execute_result"
    }
   ],
   "source": [
    "x = \"[N;D1$(N-[#6]),D2$(N(-[#6])-[#6]);$(N-[#6])!$(N-C=[O,N,S]):1].([C;D2,$(C[#6]):2](=[OD1:3])[OD1,Cl].[N;D2;$(N(-[#6])-[#6]):4]C(=[OD1])[OD2]C([CD1])([CD1])[CD1]).[#6;a;$(c1:[c,n]:[c,n]:[c,n]:[c,n]:[c,n]:1):5][#53;A;D1]>>([N:1][C:2](=[O:3]).[#6:5]-[#7:4])\"\n",
    "get_reaction_component_smarts(x)"
   ]
  },
  {
   "cell_type": "code",
   "execution_count": null,
   "id": "1cdb7667-7292-4a41-a07f-518f444d03a2",
   "metadata": {},
   "outputs": [],
   "source": []
  }
 ],
 "metadata": {
  "kernelspec": {
   "display_name": "Python 3 (ipykernel)",
   "language": "python",
   "name": "python3"
  },
  "language_info": {
   "codemirror_mode": {
    "name": "ipython",
    "version": 3
   },
   "file_extension": ".py",
   "mimetype": "text/x-python",
   "name": "python",
   "nbconvert_exporter": "python",
   "pygments_lexer": "ipython3",
   "version": "3.11.11"
  }
 },
 "nbformat": 4,
 "nbformat_minor": 5
}
